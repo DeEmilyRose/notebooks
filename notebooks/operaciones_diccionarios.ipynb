{
 "cells": [
  {
   "cell_type": "markdown",
   "metadata": {},
   "source": [
    "Diccionarios\n",
    "============\n",
    "Los items se almacenan y se recuperan por una clave en vez de por su posición en la estructura. \n",
    "Es un tipo de agregación en el cual, el nombre de los items tienes más significado que su posición.\n",
    "Los diccionarios reemplazan mucho de los algoritmos de búsquedas y estructuras de datos que se deberian implementar manualmente en lenguajes de bajo nivel. \n",
    "\n",
    "Características:\n",
    "* Se accede a los elementos por su clave o key, no por la posición que ocupan.\n",
    "* Son colecciones no ordenadas de objetos de cualquier tipo, y el tipo de los elementos que lo forman puede ser distinto.\n",
    "* Poseen longitud variable y pueden anidarse.\n",
    "* Son mapas mutables.\n",
    "* Son tablas de referencias a objetos o hash tables.\n",
    "\n",
    "!['Tabla operaciones sobre diccionarios'](../images/diccionarios.png)\n"
   ]
  },
  {
   "cell_type": "code",
   "execution_count": 3,
   "metadata": {},
   "outputs": [
    {
     "data": {
      "text/plain": [
       "{'amarillo': 2, 'azul': 1, 'verde': 3}"
      ]
     },
     "execution_count": 3,
     "metadata": {},
     "output_type": "execute_result"
    }
   ],
   "source": [
    "# E = {key: value}\n",
    "E = {'amarillo':2, 'azul':1, 'verde':3}\n",
    "E"
   ]
  },
  {
   "cell_type": "code",
   "execution_count": null,
   "metadata": {},
   "outputs": [
    {
     "data": {
      "text/plain": [
       "2"
      ]
     },
     "execution_count": 5,
     "metadata": {},
     "output_type": "execute_result"
    }
   ],
   "source": [
    "# recuperar un valor por su clave\n",
    "E['amarillo'] "
   ]
  },
  {
   "cell_type": "code",
   "execution_count": 6,
   "metadata": {},
   "outputs": [
    {
     "data": {
      "text/plain": [
       "3"
      ]
     },
     "execution_count": 6,
     "metadata": {},
     "output_type": "execute_result"
    }
   ],
   "source": [
    "# numero de entradas del diccionario\n",
    "len(E) "
   ]
  },
  {
   "cell_type": "code",
   "execution_count": 7,
   "metadata": {},
   "outputs": [
    {
     "data": {
      "text/plain": [
       "True"
      ]
     },
     "execution_count": 7,
     "metadata": {},
     "output_type": "execute_result"
    }
   ],
   "source": [
    "# alternativa para buscar su valor\n",
    "'azul' in E"
   ]
  },
  {
   "cell_type": "code",
   "execution_count": 8,
   "metadata": {},
   "outputs": [
    {
     "data": {
      "text/plain": [
       "['amarillo', 'azul', 'verde']"
      ]
     },
     "execution_count": 8,
     "metadata": {},
     "output_type": "execute_result"
    }
   ],
   "source": [
    "# crea una lista con las claves del diccionario\n",
    "list(E.keys())"
   ]
  },
  {
   "cell_type": "markdown",
   "metadata": {},
   "source": [
    "**Es necesario encerrar el objeto que devuelve `keys()` en el constructor `list` en Python 3.X porque `keys()` en 3.X devuelve un objeto iterable en vez de una lista física.**"
   ]
  }
 ],
 "metadata": {
  "kernelspec": {
   "display_name": "Python 3",
   "language": "python",
   "name": "python3"
  },
  "language_info": {
   "codemirror_mode": {
    "name": "ipython",
    "version": 3
   },
   "file_extension": ".py",
   "mimetype": "text/x-python",
   "name": "python",
   "nbconvert_exporter": "python",
   "pygments_lexer": "ipython3",
   "version": "3.12.6"
  }
 },
 "nbformat": 4,
 "nbformat_minor": 2
}
